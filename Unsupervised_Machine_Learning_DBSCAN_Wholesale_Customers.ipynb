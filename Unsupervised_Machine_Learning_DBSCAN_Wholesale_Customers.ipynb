{
  "nbformat": 4,
  "nbformat_minor": 0,
  "metadata": {
    "_draft": {
      "nbviewer_url": "https://gist.github.com/a3684572cf5029186abeb1bbd17a0f5e"
    },
    "gist": {
      "data": {
        "description": "DBSCAN.ipynb",
        "public": true
      },
      "id": "a3684572cf5029186abeb1bbd17a0f5e"
    },
    "kernelspec": {
      "display_name": "Python 3",
      "language": "python",
      "name": "python3"
    },
    "language_info": {
      "codemirror_mode": {
        "name": "ipython",
        "version": 3
      },
      "file_extension": ".py",
      "mimetype": "text/x-python",
      "name": "python",
      "nbconvert_exporter": "python",
      "pygments_lexer": "ipython3",
      "version": "3.7.4"
    },
    "colab": {
      "name": "Unsupervised Machine Learning -DBSCAN- Wholesale Customers.ipynb",
      "provenance": [],
      "collapsed_sections": [],
      "include_colab_link": true
    }
  },
  "cells": [
    {
      "cell_type": "markdown",
      "metadata": {
        "id": "view-in-github",
        "colab_type": "text"
      },
      "source": [
        "<a href=\"https://colab.research.google.com/github/Manu-Gr/DBSCAN/blob/main/Unsupervised_Machine_Learning_DBSCAN_Wholesale_Customers.ipynb\" target=\"_parent\"><img src=\"https://colab.research.google.com/assets/colab-badge.svg\" alt=\"Open In Colab\"/></a>"
      ]
    },
    {
      "cell_type": "code",
      "metadata": {
        "id": "w82_dliuiovL"
      },
      "source": [
        "#Import the libraries\n",
        "from sklearn.cluster import DBSCAN\n",
        "from sklearn.preprocessing import StandardScaler\n",
        "import numpy as np\n",
        "import pandas as pd\n",
        "import matplotlib.pyplot as plt"
      ],
      "execution_count": null,
      "outputs": []
    },
    {
      "cell_type": "code",
      "metadata": {
        "colab": {
          "base_uri": "https://localhost:8080/",
          "height": 206
        },
        "id": "Pih56iJUiovM",
        "outputId": "73a1e809-e700-4d57-f581-ddc469bff862"
      },
      "source": [
        "\n",
        "\n",
        "# Import .csv file and convert it to a DataFrame object\n",
        "df = pd.read_csv(\"Wholesale customers data.csv\");\n",
        "\n",
        "df.head()"
      ],
      "execution_count": null,
      "outputs": [
        {
          "output_type": "execute_result",
          "data": {
            "text/html": [
              "<div>\n",
              "<style scoped>\n",
              "    .dataframe tbody tr th:only-of-type {\n",
              "        vertical-align: middle;\n",
              "    }\n",
              "\n",
              "    .dataframe tbody tr th {\n",
              "        vertical-align: top;\n",
              "    }\n",
              "\n",
              "    .dataframe thead th {\n",
              "        text-align: right;\n",
              "    }\n",
              "</style>\n",
              "<table border=\"1\" class=\"dataframe\">\n",
              "  <thead>\n",
              "    <tr style=\"text-align: right;\">\n",
              "      <th></th>\n",
              "      <th>Channel</th>\n",
              "      <th>Region</th>\n",
              "      <th>Fresh</th>\n",
              "      <th>Milk</th>\n",
              "      <th>Grocery</th>\n",
              "      <th>Frozen</th>\n",
              "      <th>Detergents_Paper</th>\n",
              "      <th>Delicassen</th>\n",
              "    </tr>\n",
              "  </thead>\n",
              "  <tbody>\n",
              "    <tr>\n",
              "      <th>0</th>\n",
              "      <td>2</td>\n",
              "      <td>3</td>\n",
              "      <td>12669</td>\n",
              "      <td>9656</td>\n",
              "      <td>7561</td>\n",
              "      <td>214</td>\n",
              "      <td>2674</td>\n",
              "      <td>1338</td>\n",
              "    </tr>\n",
              "    <tr>\n",
              "      <th>1</th>\n",
              "      <td>2</td>\n",
              "      <td>3</td>\n",
              "      <td>7057</td>\n",
              "      <td>9810</td>\n",
              "      <td>9568</td>\n",
              "      <td>1762</td>\n",
              "      <td>3293</td>\n",
              "      <td>1776</td>\n",
              "    </tr>\n",
              "    <tr>\n",
              "      <th>2</th>\n",
              "      <td>2</td>\n",
              "      <td>3</td>\n",
              "      <td>6353</td>\n",
              "      <td>8808</td>\n",
              "      <td>7684</td>\n",
              "      <td>2405</td>\n",
              "      <td>3516</td>\n",
              "      <td>7844</td>\n",
              "    </tr>\n",
              "    <tr>\n",
              "      <th>3</th>\n",
              "      <td>1</td>\n",
              "      <td>3</td>\n",
              "      <td>13265</td>\n",
              "      <td>1196</td>\n",
              "      <td>4221</td>\n",
              "      <td>6404</td>\n",
              "      <td>507</td>\n",
              "      <td>1788</td>\n",
              "    </tr>\n",
              "    <tr>\n",
              "      <th>4</th>\n",
              "      <td>2</td>\n",
              "      <td>3</td>\n",
              "      <td>22615</td>\n",
              "      <td>5410</td>\n",
              "      <td>7198</td>\n",
              "      <td>3915</td>\n",
              "      <td>1777</td>\n",
              "      <td>5185</td>\n",
              "    </tr>\n",
              "  </tbody>\n",
              "</table>\n",
              "</div>"
            ],
            "text/plain": [
              "   Channel  Region  Fresh  Milk  Grocery  Frozen  Detergents_Paper  Delicassen\n",
              "0        2       3  12669  9656     7561     214              2674        1338\n",
              "1        2       3   7057  9810     9568    1762              3293        1776\n",
              "2        2       3   6353  8808     7684    2405              3516        7844\n",
              "3        1       3  13265  1196     4221    6404               507        1788\n",
              "4        2       3  22615  5410     7198    3915              1777        5185"
            ]
          },
          "metadata": {},
          "execution_count": 3
        }
      ]
    },
    {
      "cell_type": "code",
      "metadata": {
        "colab": {
          "base_uri": "https://localhost:8080/"
        },
        "id": "vyDksP1ZiovN",
        "outputId": "baedaae6-2abb-4c4c-a993-69eaac7f63f7"
      },
      "source": [
        "df.info()"
      ],
      "execution_count": null,
      "outputs": [
        {
          "output_type": "stream",
          "name": "stdout",
          "text": [
            "<class 'pandas.core.frame.DataFrame'>\n",
            "RangeIndex: 440 entries, 0 to 439\n",
            "Data columns (total 8 columns):\n",
            " #   Column            Non-Null Count  Dtype\n",
            "---  ------            --------------  -----\n",
            " 0   Channel           440 non-null    int64\n",
            " 1   Region            440 non-null    int64\n",
            " 2   Fresh             440 non-null    int64\n",
            " 3   Milk              440 non-null    int64\n",
            " 4   Grocery           440 non-null    int64\n",
            " 5   Frozen            440 non-null    int64\n",
            " 6   Detergents_Paper  440 non-null    int64\n",
            " 7   Delicassen        440 non-null    int64\n",
            "dtypes: int64(8)\n",
            "memory usage: 27.6 KB\n"
          ]
        }
      ]
    },
    {
      "cell_type": "code",
      "metadata": {
        "id": "VC9-njNGiovN"
      },
      "source": [
        "df.drop(['Channel','Region'],axis=1,inplace=True)"
      ],
      "execution_count": null,
      "outputs": []
    },
    {
      "cell_type": "code",
      "metadata": {
        "id": "TDtlMhS2iovO"
      },
      "source": [
        "array=df.values"
      ],
      "execution_count": null,
      "outputs": []
    },
    {
      "cell_type": "code",
      "metadata": {
        "colab": {
          "base_uri": "https://localhost:8080/"
        },
        "id": "QNgldw5oiovO",
        "outputId": "877d142c-3800-44ff-98f5-e49a2810a284"
      },
      "source": [
        "array"
      ],
      "execution_count": null,
      "outputs": [
        {
          "output_type": "execute_result",
          "data": {
            "text/plain": [
              "array([[12669,  9656,  7561,   214,  2674,  1338],\n",
              "       [ 7057,  9810,  9568,  1762,  3293,  1776],\n",
              "       [ 6353,  8808,  7684,  2405,  3516,  7844],\n",
              "       ...,\n",
              "       [14531, 15488, 30243,   437, 14841,  1867],\n",
              "       [10290,  1981,  2232,  1038,   168,  2125],\n",
              "       [ 2787,  1698,  2510,    65,   477,    52]])"
            ]
          },
          "metadata": {},
          "execution_count": 7
        }
      ]
    },
    {
      "cell_type": "code",
      "metadata": {
        "id": "woMQ4sRKiovP"
      },
      "source": [
        "# Normalizing the function\n",
        "stscaler = StandardScaler().fit(array)\n",
        "X = stscaler.transform(array)"
      ],
      "execution_count": null,
      "outputs": []
    },
    {
      "cell_type": "code",
      "metadata": {
        "colab": {
          "base_uri": "https://localhost:8080/"
        },
        "id": "pm8TrtEkiovQ",
        "outputId": "55e11316-53eb-4f7e-8186-4b5732dea8d2"
      },
      "source": [
        "X"
      ],
      "execution_count": null,
      "outputs": [
        {
          "output_type": "execute_result",
          "data": {
            "text/plain": [
              "array([[ 0.05293319,  0.52356777, -0.04111489, -0.58936716, -0.04356873,\n",
              "        -0.06633906],\n",
              "       [-0.39130197,  0.54445767,  0.17031835, -0.27013618,  0.08640684,\n",
              "         0.08915105],\n",
              "       [-0.44702926,  0.40853771, -0.0281571 , -0.13753572,  0.13323164,\n",
              "         2.24329255],\n",
              "       ...,\n",
              "       [ 0.20032554,  1.31467078,  2.34838631, -0.54337975,  2.51121768,\n",
              "         0.12145607],\n",
              "       [-0.13538389, -0.51753572, -0.60251388, -0.41944059, -0.56977032,\n",
              "         0.21304614],\n",
              "       [-0.72930698, -0.5559243 , -0.57322717, -0.62009417, -0.50488752,\n",
              "        -0.52286938]])"
            ]
          },
          "metadata": {},
          "execution_count": 9
        }
      ]
    },
    {
      "cell_type": "code",
      "metadata": {
        "colab": {
          "base_uri": "https://localhost:8080/"
        },
        "id": "Pm_U-AxdiovQ",
        "outputId": "1da86207-155d-4582-9e00-43aa5405669f"
      },
      "source": [
        "# DBSCAN Clustering\n",
        "dbscan = DBSCAN(eps=0.8, min_samples=6)\n",
        "dbscan.fit(X)"
      ],
      "execution_count": null,
      "outputs": [
        {
          "output_type": "execute_result",
          "data": {
            "text/plain": [
              "DBSCAN(eps=0.8, min_samples=6)"
            ]
          },
          "metadata": {},
          "execution_count": 10
        }
      ]
    },
    {
      "cell_type": "code",
      "metadata": {
        "colab": {
          "base_uri": "https://localhost:8080/"
        },
        "id": "uOcTw0FgiovR",
        "outputId": "93bd8819-56ff-41ad-f51b-986c4bf6b5e4"
      },
      "source": [
        "#Noisy samples are given the label -1.\n",
        "dbscan.labels_"
      ],
      "execution_count": null,
      "outputs": [
        {
          "output_type": "execute_result",
          "data": {
            "text/plain": [
              "array([ 0,  0, -1,  0, -1,  0,  0,  0,  0,  0,  0,  0,  0,  0,  0,  0,  0,\n",
              "       -1,  0,  0,  0,  0, -1, -1, -1,  0,  0,  0, -1,  0,  0,  0,  0, -1,\n",
              "        0,  0,  0,  0,  0, -1, -1,  0,  0,  0,  0, -1,  0, -1,  0, -1,  0,\n",
              "        0,  0,  0,  0,  0, -1,  0,  0,  0,  0, -1,  0,  0,  0, -1,  0,  0,\n",
              "        0,  0,  0, -1,  0,  0,  0,  0,  0, -1,  0,  0,  0,  0,  0,  0,  0,\n",
              "       -1, -1, -1,  0,  0,  0,  0, -1, -1,  0,  0,  0,  0,  0,  0, -1,  0,\n",
              "        0, -1,  0,  0,  0,  0,  0, -1,  0,  0,  0,  0,  0,  0,  0,  0,  0,\n",
              "        0,  0,  0,  0,  0,  0, -1,  0,  0,  0,  0,  0,  0,  0,  0,  0,  0,\n",
              "        0,  0,  0,  0,  0, -1, -1,  0,  0, -1,  0,  0,  0,  0,  0,  0,  0,\n",
              "        0,  0,  0,  0,  0,  0,  0,  0,  0,  0, -1,  0, -1,  0,  0,  0,  0,\n",
              "        0, -1,  0,  0,  0,  0, -1,  0,  0,  0,  0, -1,  0, -1,  0,  0,  0,\n",
              "        0,  0,  0,  0,  0,  0,  0,  0,  0, -1,  0,  0,  0,  0, -1, -1,  0,\n",
              "        0,  0,  0,  0,  0, -1,  0, -1,  0,  0,  0,  0, -1,  0, -1,  0,  0,\n",
              "        0,  0,  0,  0,  0,  0,  0, -1,  0,  0,  0,  0,  0,  0,  0,  0,  0,\n",
              "        0, -1,  0,  0,  0,  0,  0,  0,  0,  0,  0,  0,  0, -1,  0, -1, -1,\n",
              "        0,  0,  0, -1, -1,  0,  0,  0,  0,  0, -1,  0,  0,  0,  0,  0,  0,\n",
              "        0,  0,  0,  0,  0, -1,  0,  0,  0,  0, -1,  0, -1,  0,  0,  0,  0,\n",
              "        0,  0,  0,  0,  0,  0,  0,  0,  0,  0,  0,  0,  0,  0,  0, -1,  0,\n",
              "        0,  0,  0, -1,  0,  0, -1,  0,  0,  0,  0,  0,  0, -1,  0,  0,  0,\n",
              "        0,  0, -1,  0,  0,  0,  0,  0, -1,  0, -1,  0,  0,  0,  0, -1,  0,\n",
              "        0,  0,  0, -1,  0,  0,  0,  0,  0,  0,  0, -1,  0,  0,  0,  0,  0,\n",
              "       -1, -1,  0,  0,  0,  0,  0,  0,  0,  0,  0,  0,  0,  0,  0, -1,  0,\n",
              "        0,  0, -1,  0,  0,  0,  0,  0, -1,  0, -1,  0,  0,  0,  0,  0,  0,\n",
              "        0,  0,  0,  0,  0,  0,  0,  0,  0,  0,  0,  0, -1,  0,  0,  0,  0,\n",
              "        0, -1,  0, -1,  0, -1,  0,  0,  0,  0,  0,  0,  0,  0,  0,  0,  0,\n",
              "       -1,  0, -1,  0,  0, -1, -1,  0,  0,  0, -1,  0, -1,  0,  0])"
            ]
          },
          "metadata": {},
          "execution_count": 11
        }
      ]
    },
    {
      "cell_type": "code",
      "metadata": {
        "colab": {
          "base_uri": "https://localhost:8080/",
          "height": 423
        },
        "id": "2lVSXzlGlQY2",
        "outputId": "092f8c94-9f16-4d6f-eede-f6b4e2e71de7"
      },
      "source": [
        "# Making Cluster column\n",
        "\n",
        "cl=pd.DataFrame(dbscan.labels_,columns=['cluster'])\n",
        "cl"
      ],
      "execution_count": null,
      "outputs": [
        {
          "output_type": "execute_result",
          "data": {
            "text/html": [
              "<div>\n",
              "<style scoped>\n",
              "    .dataframe tbody tr th:only-of-type {\n",
              "        vertical-align: middle;\n",
              "    }\n",
              "\n",
              "    .dataframe tbody tr th {\n",
              "        vertical-align: top;\n",
              "    }\n",
              "\n",
              "    .dataframe thead th {\n",
              "        text-align: right;\n",
              "    }\n",
              "</style>\n",
              "<table border=\"1\" class=\"dataframe\">\n",
              "  <thead>\n",
              "    <tr style=\"text-align: right;\">\n",
              "      <th></th>\n",
              "      <th>cluster</th>\n",
              "    </tr>\n",
              "  </thead>\n",
              "  <tbody>\n",
              "    <tr>\n",
              "      <th>0</th>\n",
              "      <td>0</td>\n",
              "    </tr>\n",
              "    <tr>\n",
              "      <th>1</th>\n",
              "      <td>0</td>\n",
              "    </tr>\n",
              "    <tr>\n",
              "      <th>2</th>\n",
              "      <td>-1</td>\n",
              "    </tr>\n",
              "    <tr>\n",
              "      <th>3</th>\n",
              "      <td>0</td>\n",
              "    </tr>\n",
              "    <tr>\n",
              "      <th>4</th>\n",
              "      <td>-1</td>\n",
              "    </tr>\n",
              "    <tr>\n",
              "      <th>...</th>\n",
              "      <td>...</td>\n",
              "    </tr>\n",
              "    <tr>\n",
              "      <th>435</th>\n",
              "      <td>-1</td>\n",
              "    </tr>\n",
              "    <tr>\n",
              "      <th>436</th>\n",
              "      <td>0</td>\n",
              "    </tr>\n",
              "    <tr>\n",
              "      <th>437</th>\n",
              "      <td>-1</td>\n",
              "    </tr>\n",
              "    <tr>\n",
              "      <th>438</th>\n",
              "      <td>0</td>\n",
              "    </tr>\n",
              "    <tr>\n",
              "      <th>439</th>\n",
              "      <td>0</td>\n",
              "    </tr>\n",
              "  </tbody>\n",
              "</table>\n",
              "<p>440 rows × 1 columns</p>\n",
              "</div>"
            ],
            "text/plain": [
              "     cluster\n",
              "0          0\n",
              "1          0\n",
              "2         -1\n",
              "3          0\n",
              "4         -1\n",
              "..       ...\n",
              "435       -1\n",
              "436        0\n",
              "437       -1\n",
              "438        0\n",
              "439        0\n",
              "\n",
              "[440 rows x 1 columns]"
            ]
          },
          "metadata": {},
          "execution_count": 12
        }
      ]
    },
    {
      "cell_type": "code",
      "metadata": {
        "colab": {
          "base_uri": "https://localhost:8080/",
          "height": 423
        },
        "id": "tzuJ7HAoiovS",
        "outputId": "9bb439bc-a804-4602-e228-f99cc55792a5"
      },
      "source": [
        "# Adding the cluster column to dataset\n",
        "pd.concat([df,cl],axis=1)"
      ],
      "execution_count": null,
      "outputs": [
        {
          "output_type": "execute_result",
          "data": {
            "text/html": [
              "<div>\n",
              "<style scoped>\n",
              "    .dataframe tbody tr th:only-of-type {\n",
              "        vertical-align: middle;\n",
              "    }\n",
              "\n",
              "    .dataframe tbody tr th {\n",
              "        vertical-align: top;\n",
              "    }\n",
              "\n",
              "    .dataframe thead th {\n",
              "        text-align: right;\n",
              "    }\n",
              "</style>\n",
              "<table border=\"1\" class=\"dataframe\">\n",
              "  <thead>\n",
              "    <tr style=\"text-align: right;\">\n",
              "      <th></th>\n",
              "      <th>Fresh</th>\n",
              "      <th>Milk</th>\n",
              "      <th>Grocery</th>\n",
              "      <th>Frozen</th>\n",
              "      <th>Detergents_Paper</th>\n",
              "      <th>Delicassen</th>\n",
              "      <th>cluster</th>\n",
              "    </tr>\n",
              "  </thead>\n",
              "  <tbody>\n",
              "    <tr>\n",
              "      <th>0</th>\n",
              "      <td>12669</td>\n",
              "      <td>9656</td>\n",
              "      <td>7561</td>\n",
              "      <td>214</td>\n",
              "      <td>2674</td>\n",
              "      <td>1338</td>\n",
              "      <td>0</td>\n",
              "    </tr>\n",
              "    <tr>\n",
              "      <th>1</th>\n",
              "      <td>7057</td>\n",
              "      <td>9810</td>\n",
              "      <td>9568</td>\n",
              "      <td>1762</td>\n",
              "      <td>3293</td>\n",
              "      <td>1776</td>\n",
              "      <td>0</td>\n",
              "    </tr>\n",
              "    <tr>\n",
              "      <th>2</th>\n",
              "      <td>6353</td>\n",
              "      <td>8808</td>\n",
              "      <td>7684</td>\n",
              "      <td>2405</td>\n",
              "      <td>3516</td>\n",
              "      <td>7844</td>\n",
              "      <td>-1</td>\n",
              "    </tr>\n",
              "    <tr>\n",
              "      <th>3</th>\n",
              "      <td>13265</td>\n",
              "      <td>1196</td>\n",
              "      <td>4221</td>\n",
              "      <td>6404</td>\n",
              "      <td>507</td>\n",
              "      <td>1788</td>\n",
              "      <td>0</td>\n",
              "    </tr>\n",
              "    <tr>\n",
              "      <th>4</th>\n",
              "      <td>22615</td>\n",
              "      <td>5410</td>\n",
              "      <td>7198</td>\n",
              "      <td>3915</td>\n",
              "      <td>1777</td>\n",
              "      <td>5185</td>\n",
              "      <td>-1</td>\n",
              "    </tr>\n",
              "    <tr>\n",
              "      <th>...</th>\n",
              "      <td>...</td>\n",
              "      <td>...</td>\n",
              "      <td>...</td>\n",
              "      <td>...</td>\n",
              "      <td>...</td>\n",
              "      <td>...</td>\n",
              "      <td>...</td>\n",
              "    </tr>\n",
              "    <tr>\n",
              "      <th>435</th>\n",
              "      <td>29703</td>\n",
              "      <td>12051</td>\n",
              "      <td>16027</td>\n",
              "      <td>13135</td>\n",
              "      <td>182</td>\n",
              "      <td>2204</td>\n",
              "      <td>-1</td>\n",
              "    </tr>\n",
              "    <tr>\n",
              "      <th>436</th>\n",
              "      <td>39228</td>\n",
              "      <td>1431</td>\n",
              "      <td>764</td>\n",
              "      <td>4510</td>\n",
              "      <td>93</td>\n",
              "      <td>2346</td>\n",
              "      <td>0</td>\n",
              "    </tr>\n",
              "    <tr>\n",
              "      <th>437</th>\n",
              "      <td>14531</td>\n",
              "      <td>15488</td>\n",
              "      <td>30243</td>\n",
              "      <td>437</td>\n",
              "      <td>14841</td>\n",
              "      <td>1867</td>\n",
              "      <td>-1</td>\n",
              "    </tr>\n",
              "    <tr>\n",
              "      <th>438</th>\n",
              "      <td>10290</td>\n",
              "      <td>1981</td>\n",
              "      <td>2232</td>\n",
              "      <td>1038</td>\n",
              "      <td>168</td>\n",
              "      <td>2125</td>\n",
              "      <td>0</td>\n",
              "    </tr>\n",
              "    <tr>\n",
              "      <th>439</th>\n",
              "      <td>2787</td>\n",
              "      <td>1698</td>\n",
              "      <td>2510</td>\n",
              "      <td>65</td>\n",
              "      <td>477</td>\n",
              "      <td>52</td>\n",
              "      <td>0</td>\n",
              "    </tr>\n",
              "  </tbody>\n",
              "</table>\n",
              "<p>440 rows × 7 columns</p>\n",
              "</div>"
            ],
            "text/plain": [
              "     Fresh   Milk  Grocery  Frozen  Detergents_Paper  Delicassen  cluster\n",
              "0    12669   9656     7561     214              2674        1338        0\n",
              "1     7057   9810     9568    1762              3293        1776        0\n",
              "2     6353   8808     7684    2405              3516        7844       -1\n",
              "3    13265   1196     4221    6404               507        1788        0\n",
              "4    22615   5410     7198    3915              1777        5185       -1\n",
              "..     ...    ...      ...     ...               ...         ...      ...\n",
              "435  29703  12051    16027   13135               182        2204       -1\n",
              "436  39228   1431      764    4510                93        2346        0\n",
              "437  14531  15488    30243     437             14841        1867       -1\n",
              "438  10290   1981     2232    1038               168        2125        0\n",
              "439   2787   1698     2510      65               477          52        0\n",
              "\n",
              "[440 rows x 7 columns]"
            ]
          },
          "metadata": {},
          "execution_count": 13
        }
      ]
    },
    {
      "cell_type": "code",
      "metadata": {
        "colab": {
          "base_uri": "https://localhost:8080/",
          "height": 423
        },
        "id": "tJ-ydi8cvZD9",
        "outputId": "5c5f7cd7-f6d4-4641-fc9f-7469a259d431"
      },
      "source": [
        "df['Cluster']=dbscan.labels_\n",
        "df"
      ],
      "execution_count": null,
      "outputs": [
        {
          "output_type": "execute_result",
          "data": {
            "text/html": [
              "<div>\n",
              "<style scoped>\n",
              "    .dataframe tbody tr th:only-of-type {\n",
              "        vertical-align: middle;\n",
              "    }\n",
              "\n",
              "    .dataframe tbody tr th {\n",
              "        vertical-align: top;\n",
              "    }\n",
              "\n",
              "    .dataframe thead th {\n",
              "        text-align: right;\n",
              "    }\n",
              "</style>\n",
              "<table border=\"1\" class=\"dataframe\">\n",
              "  <thead>\n",
              "    <tr style=\"text-align: right;\">\n",
              "      <th></th>\n",
              "      <th>Fresh</th>\n",
              "      <th>Milk</th>\n",
              "      <th>Grocery</th>\n",
              "      <th>Frozen</th>\n",
              "      <th>Detergents_Paper</th>\n",
              "      <th>Delicassen</th>\n",
              "      <th>Cluster</th>\n",
              "    </tr>\n",
              "  </thead>\n",
              "  <tbody>\n",
              "    <tr>\n",
              "      <th>0</th>\n",
              "      <td>12669</td>\n",
              "      <td>9656</td>\n",
              "      <td>7561</td>\n",
              "      <td>214</td>\n",
              "      <td>2674</td>\n",
              "      <td>1338</td>\n",
              "      <td>0</td>\n",
              "    </tr>\n",
              "    <tr>\n",
              "      <th>1</th>\n",
              "      <td>7057</td>\n",
              "      <td>9810</td>\n",
              "      <td>9568</td>\n",
              "      <td>1762</td>\n",
              "      <td>3293</td>\n",
              "      <td>1776</td>\n",
              "      <td>0</td>\n",
              "    </tr>\n",
              "    <tr>\n",
              "      <th>2</th>\n",
              "      <td>6353</td>\n",
              "      <td>8808</td>\n",
              "      <td>7684</td>\n",
              "      <td>2405</td>\n",
              "      <td>3516</td>\n",
              "      <td>7844</td>\n",
              "      <td>-1</td>\n",
              "    </tr>\n",
              "    <tr>\n",
              "      <th>3</th>\n",
              "      <td>13265</td>\n",
              "      <td>1196</td>\n",
              "      <td>4221</td>\n",
              "      <td>6404</td>\n",
              "      <td>507</td>\n",
              "      <td>1788</td>\n",
              "      <td>0</td>\n",
              "    </tr>\n",
              "    <tr>\n",
              "      <th>4</th>\n",
              "      <td>22615</td>\n",
              "      <td>5410</td>\n",
              "      <td>7198</td>\n",
              "      <td>3915</td>\n",
              "      <td>1777</td>\n",
              "      <td>5185</td>\n",
              "      <td>-1</td>\n",
              "    </tr>\n",
              "    <tr>\n",
              "      <th>...</th>\n",
              "      <td>...</td>\n",
              "      <td>...</td>\n",
              "      <td>...</td>\n",
              "      <td>...</td>\n",
              "      <td>...</td>\n",
              "      <td>...</td>\n",
              "      <td>...</td>\n",
              "    </tr>\n",
              "    <tr>\n",
              "      <th>435</th>\n",
              "      <td>29703</td>\n",
              "      <td>12051</td>\n",
              "      <td>16027</td>\n",
              "      <td>13135</td>\n",
              "      <td>182</td>\n",
              "      <td>2204</td>\n",
              "      <td>-1</td>\n",
              "    </tr>\n",
              "    <tr>\n",
              "      <th>436</th>\n",
              "      <td>39228</td>\n",
              "      <td>1431</td>\n",
              "      <td>764</td>\n",
              "      <td>4510</td>\n",
              "      <td>93</td>\n",
              "      <td>2346</td>\n",
              "      <td>0</td>\n",
              "    </tr>\n",
              "    <tr>\n",
              "      <th>437</th>\n",
              "      <td>14531</td>\n",
              "      <td>15488</td>\n",
              "      <td>30243</td>\n",
              "      <td>437</td>\n",
              "      <td>14841</td>\n",
              "      <td>1867</td>\n",
              "      <td>-1</td>\n",
              "    </tr>\n",
              "    <tr>\n",
              "      <th>438</th>\n",
              "      <td>10290</td>\n",
              "      <td>1981</td>\n",
              "      <td>2232</td>\n",
              "      <td>1038</td>\n",
              "      <td>168</td>\n",
              "      <td>2125</td>\n",
              "      <td>0</td>\n",
              "    </tr>\n",
              "    <tr>\n",
              "      <th>439</th>\n",
              "      <td>2787</td>\n",
              "      <td>1698</td>\n",
              "      <td>2510</td>\n",
              "      <td>65</td>\n",
              "      <td>477</td>\n",
              "      <td>52</td>\n",
              "      <td>0</td>\n",
              "    </tr>\n",
              "  </tbody>\n",
              "</table>\n",
              "<p>440 rows × 7 columns</p>\n",
              "</div>"
            ],
            "text/plain": [
              "     Fresh   Milk  Grocery  Frozen  Detergents_Paper  Delicassen  Cluster\n",
              "0    12669   9656     7561     214              2674        1338        0\n",
              "1     7057   9810     9568    1762              3293        1776        0\n",
              "2     6353   8808     7684    2405              3516        7844       -1\n",
              "3    13265   1196     4221    6404               507        1788        0\n",
              "4    22615   5410     7198    3915              1777        5185       -1\n",
              "..     ...    ...      ...     ...               ...         ...      ...\n",
              "435  29703  12051    16027   13135               182        2204       -1\n",
              "436  39228   1431      764    4510                93        2346        0\n",
              "437  14531  15488    30243     437             14841        1867       -1\n",
              "438  10290   1981     2232    1038               168        2125        0\n",
              "439   2787   1698     2510      65               477          52        0\n",
              "\n",
              "[440 rows x 7 columns]"
            ]
          },
          "metadata": {},
          "execution_count": 17
        }
      ]
    },
    {
      "cell_type": "code",
      "metadata": {
        "id": "7dc6dcFCjmW6",
        "colab": {
          "base_uri": "https://localhost:8080/",
          "height": 143
        },
        "outputId": "7d63d7c4-ee87-4d67-cd7b-1f4dac0bfb66"
      },
      "source": [
        "df.groupby('Cluster').agg(['mean']).reset_index()"
      ],
      "execution_count": null,
      "outputs": [
        {
          "output_type": "execute_result",
          "data": {
            "text/html": [
              "<div>\n",
              "<style scoped>\n",
              "    .dataframe tbody tr th:only-of-type {\n",
              "        vertical-align: middle;\n",
              "    }\n",
              "\n",
              "    .dataframe tbody tr th {\n",
              "        vertical-align: top;\n",
              "    }\n",
              "\n",
              "    .dataframe thead tr th {\n",
              "        text-align: left;\n",
              "    }\n",
              "</style>\n",
              "<table border=\"1\" class=\"dataframe\">\n",
              "  <thead>\n",
              "    <tr>\n",
              "      <th></th>\n",
              "      <th>Cluster</th>\n",
              "      <th>Fresh</th>\n",
              "      <th>Milk</th>\n",
              "      <th>Grocery</th>\n",
              "      <th>Frozen</th>\n",
              "      <th>Detergents_Paper</th>\n",
              "      <th>Delicassen</th>\n",
              "    </tr>\n",
              "    <tr>\n",
              "      <th></th>\n",
              "      <th></th>\n",
              "      <th>mean</th>\n",
              "      <th>mean</th>\n",
              "      <th>mean</th>\n",
              "      <th>mean</th>\n",
              "      <th>mean</th>\n",
              "      <th>mean</th>\n",
              "    </tr>\n",
              "  </thead>\n",
              "  <tbody>\n",
              "    <tr>\n",
              "      <th>0</th>\n",
              "      <td>-1</td>\n",
              "      <td>19838.212500</td>\n",
              "      <td>13679.050000</td>\n",
              "      <td>17681.800000</td>\n",
              "      <td>6492.800000</td>\n",
              "      <td>6946.000000</td>\n",
              "      <td>3754.437500</td>\n",
              "    </tr>\n",
              "    <tr>\n",
              "      <th>1</th>\n",
              "      <td>0</td>\n",
              "      <td>10258.538889</td>\n",
              "      <td>4044.536111</td>\n",
              "      <td>5788.938889</td>\n",
              "      <td>2311.738889</td>\n",
              "      <td>1978.269444</td>\n",
              "      <td>1029.411111</td>\n",
              "    </tr>\n",
              "  </tbody>\n",
              "</table>\n",
              "</div>"
            ],
            "text/plain": [
              "  Cluster         Fresh  ... Detergents_Paper   Delicassen\n",
              "                   mean  ...             mean         mean\n",
              "0      -1  19838.212500  ...      6946.000000  3754.437500\n",
              "1       0  10258.538889  ...      1978.269444  1029.411111\n",
              "\n",
              "[2 rows x 7 columns]"
            ]
          },
          "metadata": {},
          "execution_count": 18
        }
      ]
    },
    {
      "cell_type": "code",
      "metadata": {
        "colab": {
          "base_uri": "https://localhost:8080/",
          "height": 446
        },
        "id": "6WPxf06cjlch",
        "outputId": "135d3afe-b85b-43ea-e387-550251e840ca"
      },
      "source": [
        "# Plot Clusters\n",
        "plt.figure(figsize=(10, 7))  \n",
        "plt.scatter(df['Cluster'],df['Fresh'], c=dbscan.labels_) "
      ],
      "execution_count": null,
      "outputs": [
        {
          "output_type": "execute_result",
          "data": {
            "text/plain": [
              "<matplotlib.collections.PathCollection at 0x7fbfc768d3d0>"
            ]
          },
          "metadata": {},
          "execution_count": 19
        },
        {
          "output_type": "display_data",
          "data": {
            "image/png": "[encoded data removed]",
            "text/plain": [
              "<Figure size 720x504 with 1 Axes>"
            ]
          },
          "metadata": {
            "needs_background": "light"
          }
        }
      ]
    },
    {
      "cell_type": "code",
      "metadata": {
        "id": "qLitEa5DwP6S"
      },
      "source": [
        ""
      ],
      "execution_count": null,
      "outputs": []
    }
  ]
}